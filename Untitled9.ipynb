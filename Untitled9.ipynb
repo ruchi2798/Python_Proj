{
 "cells": [
  {
   "cell_type": "code",
   "execution_count": 68,
   "id": "1a746cec-8204-40a4-bb2f-b0393d0ec9df",
   "metadata": {},
   "outputs": [
    {
     "name": "stdout",
     "output_type": "stream",
     "text": [
      "Flat_list :  [1, 2, 3, 4, 44, 55, 66, 34, 56, 78, 89, 34, 1, 2, 3, 1, 4, 34, 55, 67, 78, 89, 45, 22, 61, 34, 56] \n",
      "\n",
      "Product result of flat_list :  4134711838987085478833841242112000\n"
     ]
    }
   ],
   "source": [
    "#A_6thFeb ---------Q1---------\n",
    "list1 = [1,2,3,4, [44,55,66, True], False, (34,56,78,89,34), {1,2,3,3,2,1}, {1:34, \"key2\": [55, 67, 78, 89], 4: (45,\n",
    "22, 61, 34)}, [56, 'data science'], 'Machine Learning']\n",
    "def prod_test(l):\n",
    "    prod=1\n",
    "    l1=[]\n",
    "    for i in l:\n",
    "        if type(i)==int:\n",
    "            l1.append(i)\n",
    "        elif type(i)==list or type(i)==tuple or type(i)==set:\n",
    "            for j in i:\n",
    "                if type(j)==int:\n",
    "                    l1.append(j)\n",
    "        #for dict values\n",
    "        elif type(i)==dict:\n",
    "            for a in i.keys():\n",
    "                if type(a)==int:\n",
    "                    l1.append(a)\n",
    "            for b in i.values():\n",
    "                if type(b)==int:\n",
    "                    l1.append(b)\n",
    "                if type(b)==list or type(b)==tuple:\n",
    "                    for c in b:\n",
    "                        if type(c)==int:\n",
    "                            l1.append(c)\n",
    "    return l1\n",
    "\n",
    "list2=prod_test(list1)\n",
    "print(\"Flat_list : \", list2, \"\\n\")\n",
    "#finding product of all items in flat list l1\n",
    "p=1\n",
    "for i in list2:\n",
    "    p*=i    \n",
    "print(\"Product result of flat_list : \",p)"
   ]
  },
  {
   "cell_type": "code",
   "execution_count": 69,
   "id": "9178e25c-3dd5-4a69-894f-660defcbb568",
   "metadata": {},
   "outputs": [
    {
     "name": "stdout",
     "output_type": "stream",
     "text": [
      "Original String :  I want to become a Data Scientist\n",
      "Encrypted string :  r$dzmg$gl$yvxlnv$z$wzgz$hxrvmgrhg\n"
     ]
    }
   ],
   "source": [
    "#A_6thFeb -------Q2--------\n",
    "s=\"I want to become a Data Scientist\"\n",
    "print(\"Original String : \",s) \n",
    "s1=\"\"\n",
    "for i in s.lower():\n",
    "    if ord(i)>=97 and ord(i)<=122:\n",
    "        s1+=chr(122-ord(i)+97)\n",
    "    elif ord(i) == 32:\n",
    "        s1+=chr(ord(i)+4)\n",
    "    else:\n",
    "        s1+=i\n",
    "print(\"Encrypted string : \", s1)"
   ]
  }
 ],
 "metadata": {
  "kernelspec": {
   "display_name": "Python 3 (ipykernel)",
   "language": "python",
   "name": "python3"
  },
  "language_info": {
   "codemirror_mode": {
    "name": "ipython",
    "version": 3
   },
   "file_extension": ".py",
   "mimetype": "text/x-python",
   "name": "python",
   "nbconvert_exporter": "python",
   "pygments_lexer": "ipython3",
   "version": "3.10.8"
  }
 },
 "nbformat": 4,
 "nbformat_minor": 5
}
